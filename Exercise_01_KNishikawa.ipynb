{
  "nbformat": 4,
  "nbformat_minor": 0,
  "metadata": {
    "colab": {
      "provenance": [],
      "include_colab_link": true
    },
    "kernelspec": {
      "name": "python3",
      "display_name": "Python 3"
    },
    "language_info": {
      "name": "python"
    }
  },
  "cells": [
    {
      "cell_type": "markdown",
      "metadata": {
        "id": "view-in-github",
        "colab_type": "text"
      },
      "source": [
        "<a href=\"https://colab.research.google.com/github/Scubaman99/Scubaman99/blob/main/Exercise_01_KNishikawa.ipynb\" target=\"_parent\"><img src=\"https://colab.research.google.com/assets/colab-badge.svg\" alt=\"Open In Colab\"/></a>"
      ]
    },
    {
      "cell_type": "markdown",
      "source": [
        "#Module 1 Practice Exercise\n",
        "Goal: Work with Colab notebook"
      ],
      "metadata": {
        "id": "lpZC0FeME2O2"
      }
    },
    {
      "cell_type": "markdown",
      "source": [
        "Practice with a Text cell:\n",
        "1. Create a new Text cell below this cell.\n",
        "2. Add your name on one line, and today's date on the next line.\n",
        "3. Format your name with each of the first 3 format symbols and observe the result. You should end up with 3 copies of your name, each in a different format.\n",
        "4. Hover the mouse over the format symbols to find how to create bullet items. Then create a list with 2 bullet items: apples, oranges\n",
        "\n",
        "\n",
        "\n",
        "\n"
      ],
      "metadata": {
        "id": "RhTwQS55FdWx"
      }
    },
    {
      "cell_type": "markdown",
      "source": [
        "# Kenichi Nishikawa\n",
        "September 23, 2025\n",
        "\n",
        "**Kenichi Nishikawa**\n",
        "September 23, 2025\n",
        "\n",
        "*Kenichi Nishikawa*\n",
        "September 23, 2025"
      ],
      "metadata": {
        "id": "sjvFJKEoF3us"
      }
    },
    {
      "cell_type": "markdown",
      "source": [
        "Practice with a Code cell:\n",
        "1. Create a new Code cell below this cell.\n",
        "2. Type in a simple math expression, such as `4 + 23`\n",
        "3. Run the code cell to see the result of the calculation."
      ],
      "metadata": {
        "id": "TPjET6r0orsM"
      }
    },
    {
      "cell_type": "markdown",
      "source": [
        "Practice working with multiple cells:\n",
        "1. Remove the empty Code cell below.\n",
        "2. Move the Code cell above to the end of notebook (or below this cell).\n",
        "3. Save your work.\n",
        "4. Download the notebook to your computer, then submit it on Canvas as your work for Exercise 1."
      ],
      "metadata": {
        "id": "j3nMYw5ppgVU"
      }
    },
    {
      "cell_type": "code",
      "source": [
        "4 + 23"
      ],
      "metadata": {
        "colab": {
          "base_uri": "https://localhost:8080/"
        },
        "id": "ak6N4IwQGpSd",
        "outputId": "2eb591d8-ef6e-4133-8fb4-ff3563617cf8"
      },
      "execution_count": null,
      "outputs": [
        {
          "output_type": "execute_result",
          "data": {
            "text/plain": [
              "27"
            ]
          },
          "metadata": {},
          "execution_count": 1
        }
      ]
    }
  ]
}